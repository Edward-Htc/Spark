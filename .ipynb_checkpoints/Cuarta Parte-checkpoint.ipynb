{
 "cells": [
  {
   "cell_type": "markdown",
   "id": "a38769ce",
   "metadata": {},
   "source": [
    "## Funciones de agregacion y group by"
   ]
  },
  {
   "cell_type": "code",
   "execution_count": 1,
   "id": "391bbb72",
   "metadata": {},
   "outputs": [],
   "source": [
    "import pyspark\n",
    "import pandas as pd"
   ]
  },
  {
   "cell_type": "code",
   "execution_count": 2,
   "id": "83bc466b",
   "metadata": {},
   "outputs": [],
   "source": [
    "from pyspark.sql import SparkSession"
   ]
  },
  {
   "cell_type": "code",
   "execution_count": 3,
   "id": "1962ad04",
   "metadata": {},
   "outputs": [],
   "source": [
    "spark = SparkSession.builder.appName('cuarta').getOrCreate()"
   ]
  },
  {
   "cell_type": "code",
   "execution_count": 4,
   "id": "c8fdfadb",
   "metadata": {},
   "outputs": [],
   "source": [
    "df = spark.read.csv('data.csv',sep=';',header=True,inferSchema=True)"
   ]
  },
  {
   "cell_type": "code",
   "execution_count": 15,
   "id": "ebedf065",
   "metadata": {},
   "outputs": [
    {
     "data": {
      "text/plain": [
       "[Row(name='maria', age=29, salarie=112312),\n",
       " Row(name='jorge', age=35, salarie=123423),\n",
       " Row(name='jessica', age=32, salarie=25343),\n",
       " Row(name='erick', age=20, salarie=35464)]"
      ]
     },
     "execution_count": 15,
     "metadata": {},
     "output_type": "execute_result"
    }
   ],
   "source": [
    "df.head(4)"
   ]
  },
  {
   "cell_type": "code",
   "execution_count": null,
   "id": "9870ea12",
   "metadata": {},
   "outputs": [],
   "source": []
  }
 ],
 "metadata": {
  "kernelspec": {
   "display_name": "Python 3 (ipykernel)",
   "language": "python",
   "name": "python3"
  },
  "language_info": {
   "codemirror_mode": {
    "name": "ipython",
    "version": 3
   },
   "file_extension": ".py",
   "mimetype": "text/x-python",
   "name": "python",
   "nbconvert_exporter": "python",
   "pygments_lexer": "ipython3",
   "version": "3.9.12"
  }
 },
 "nbformat": 4,
 "nbformat_minor": 5
}
