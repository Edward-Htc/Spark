{
 "cells": [
  {
   "cell_type": "markdown",
   "id": "f1027d45",
   "metadata": {},
   "source": [
    "* Dropping column\n",
    "* Dropping row\n",
    "* Various parameter in dropping functionalities\n",
    "* Handling missing values by mean"
   ]
  },
  {
   "cell_type": "code",
   "execution_count": 1,
   "id": "0622dcff",
   "metadata": {},
   "outputs": [],
   "source": [
    "import pyspark\n",
    "import pandas as pd"
   ]
  },
  {
   "cell_type": "code",
   "execution_count": 2,
   "id": "6a289a8e",
   "metadata": {},
   "outputs": [],
   "source": [
    "from pyspark.sql import SparkSession"
   ]
  },
  {
   "cell_type": "code",
   "execution_count": 3,
   "id": "cb03e9e5",
   "metadata": {},
   "outputs": [],
   "source": [
    "spark = SparkSession.builder.appName('tercero').getOrCreate()"
   ]
  },
  {
   "cell_type": "code",
   "execution_count": 4,
   "id": "2bc92de5",
   "metadata": {},
   "outputs": [
    {
     "data": {
      "text/html": [
       "\n",
       "            <div>\n",
       "                <p><b>SparkSession - in-memory</b></p>\n",
       "                \n",
       "        <div>\n",
       "            <p><b>SparkContext</b></p>\n",
       "\n",
       "            <p><a href=\"http://DESKTOP-ABI7TL1:4041\">Spark UI</a></p>\n",
       "\n",
       "            <dl>\n",
       "              <dt>Version</dt>\n",
       "                <dd><code>v3.3.0</code></dd>\n",
       "              <dt>Master</dt>\n",
       "                <dd><code>local[*]</code></dd>\n",
       "              <dt>AppName</dt>\n",
       "                <dd><code>tercero</code></dd>\n",
       "            </dl>\n",
       "        </div>\n",
       "        \n",
       "            </div>\n",
       "        "
      ],
      "text/plain": [
       "<pyspark.sql.session.SparkSession at 0x14df4b484f0>"
      ]
     },
     "execution_count": 4,
     "metadata": {},
     "output_type": "execute_result"
    }
   ],
   "source": [
    "spark"
   ]
  },
  {
   "cell_type": "code",
   "execution_count": 74,
   "id": "7a11de15",
   "metadata": {},
   "outputs": [],
   "source": [
    "df = spark.read.csv('data.csv',sep=';',header=True,inferSchema=True)"
   ]
  },
  {
   "cell_type": "code",
   "execution_count": 75,
   "id": "03f45d73",
   "metadata": {},
   "outputs": [
    {
     "name": "stdout",
     "output_type": "stream",
     "text": [
      "root\n",
      " |-- name: string (nullable = true)\n",
      " |-- age: integer (nullable = true)\n",
      " |-- salarie: integer (nullable = true)\n",
      "\n"
     ]
    }
   ],
   "source": [
    "df.printSchema()"
   ]
  },
  {
   "cell_type": "code",
   "execution_count": 76,
   "id": "24b21df1",
   "metadata": {},
   "outputs": [
    {
     "name": "stdout",
     "output_type": "stream",
     "text": [
      "+-------+----+-------+\n",
      "|   name| age|salarie|\n",
      "+-------+----+-------+\n",
      "|  maria|  29| 112312|\n",
      "|  jorge|  35| 123423|\n",
      "|jessica|  32|  25343|\n",
      "|  erick|  20|  35464|\n",
      "|   null|  22|   null|\n",
      "| lucero|null|  43211|\n",
      "|   null|null|   null|\n",
      "+-------+----+-------+\n",
      "\n"
     ]
    }
   ],
   "source": [
    "df.show()"
   ]
  },
  {
   "cell_type": "code",
   "execution_count": 77,
   "id": "ef15fd5e",
   "metadata": {},
   "outputs": [
    {
     "name": "stdout",
     "output_type": "stream",
     "text": [
      "+-------+-----+------------------+-----------------+\n",
      "|summary| name|               age|          salarie|\n",
      "+-------+-----+------------------+-----------------+\n",
      "|  count|    5|                 5|                5|\n",
      "|   mean| null|              27.6|          67950.6|\n",
      "| stddev| null|6.4265076052238514|46173.46515370056|\n",
      "|    min|erick|                20|            25343|\n",
      "|    max|maria|                35|           123423|\n",
      "+-------+-----+------------------+-----------------+\n",
      "\n"
     ]
    }
   ],
   "source": [
    "df.describe().show()"
   ]
  },
  {
   "cell_type": "code",
   "execution_count": 78,
   "id": "a5fb2401",
   "metadata": {},
   "outputs": [
    {
     "data": {
      "text/plain": [
       "['name', 'age', 'salarie']"
      ]
     },
     "execution_count": 78,
     "metadata": {},
     "output_type": "execute_result"
    }
   ],
   "source": [
    "df.columns"
   ]
  },
  {
   "cell_type": "code",
   "execution_count": 79,
   "id": "1c369866",
   "metadata": {},
   "outputs": [],
   "source": [
    "df = df.withColumn('age_2',df['age']+2)"
   ]
  },
  {
   "cell_type": "code",
   "execution_count": 80,
   "id": "c82498dd",
   "metadata": {},
   "outputs": [
    {
     "name": "stdout",
     "output_type": "stream",
     "text": [
      "+-------+----+-------+-----+\n",
      "|   name| age|salarie|age_2|\n",
      "+-------+----+-------+-----+\n",
      "|  maria|  29| 112312|   31|\n",
      "|  jorge|  35| 123423|   37|\n",
      "|jessica|  32|  25343|   34|\n",
      "|  erick|  20|  35464|   22|\n",
      "|   null|  22|   null|   24|\n",
      "| lucero|null|  43211| null|\n",
      "|   null|null|   null| null|\n",
      "+-------+----+-------+-----+\n",
      "\n"
     ]
    }
   ],
   "source": [
    "df.show()"
   ]
  },
  {
   "cell_type": "code",
   "execution_count": 81,
   "id": "d35a8d59",
   "metadata": {},
   "outputs": [],
   "source": [
    "df = df.drop('age_2')"
   ]
  },
  {
   "cell_type": "code",
   "execution_count": 82,
   "id": "941d9d25",
   "metadata": {},
   "outputs": [
    {
     "name": "stdout",
     "output_type": "stream",
     "text": [
      "+-------+----+-------+\n",
      "|   name| age|salarie|\n",
      "+-------+----+-------+\n",
      "|  maria|  29| 112312|\n",
      "|  jorge|  35| 123423|\n",
      "|jessica|  32|  25343|\n",
      "|  erick|  20|  35464|\n",
      "|   null|  22|   null|\n",
      "| lucero|null|  43211|\n",
      "|   null|null|   null|\n",
      "+-------+----+-------+\n",
      "\n"
     ]
    }
   ],
   "source": [
    "df.show()"
   ]
  },
  {
   "cell_type": "code",
   "execution_count": 83,
   "id": "8b053098",
   "metadata": {},
   "outputs": [],
   "source": [
    "# Eliminando valores nulos"
   ]
  },
  {
   "cell_type": "code",
   "execution_count": 84,
   "id": "a3da0ab2",
   "metadata": {},
   "outputs": [
    {
     "name": "stdout",
     "output_type": "stream",
     "text": [
      "+-------+----+-------+\n",
      "|   name| age|salarie|\n",
      "+-------+----+-------+\n",
      "|  maria|  29| 112312|\n",
      "|  jorge|  35| 123423|\n",
      "|jessica|  32|  25343|\n",
      "|  erick|  20|  35464|\n",
      "|   null|  22|   null|\n",
      "| lucero|null|  43211|\n",
      "+-------+----+-------+\n",
      "\n"
     ]
    }
   ],
   "source": [
    "df.dropna('all').show()"
   ]
  },
  {
   "cell_type": "code",
   "execution_count": 87,
   "id": "1bc8ca68",
   "metadata": {},
   "outputs": [
    {
     "name": "stdout",
     "output_type": "stream",
     "text": [
      "+-------+----+-------+\n",
      "|   name| age|salarie|\n",
      "+-------+----+-------+\n",
      "|  maria|  29| 112312|\n",
      "|  jorge|  35| 123423|\n",
      "|jessica|  32|  25343|\n",
      "|  erick|  20|  35464|\n",
      "| lucero|null|  43211|\n",
      "+-------+----+-------+\n",
      "\n"
     ]
    }
   ],
   "source": [
    "df.dropna('any',thresh=2).show() # tresh nos dice que se eliminaran aquellos que como minimo tengan 2 null. Para este caso"
   ]
  },
  {
   "cell_type": "code",
   "execution_count": 90,
   "id": "b83122aa",
   "metadata": {},
   "outputs": [
    {
     "name": "stdout",
     "output_type": "stream",
     "text": [
      "+-------+----+-------+\n",
      "|   name| age|salarie|\n",
      "+-------+----+-------+\n",
      "|  maria|  29| 112312|\n",
      "|  jorge|  35| 123423|\n",
      "|jessica|  32|  25343|\n",
      "|  erick|  20|  35464|\n",
      "| lucero|null|  43211|\n",
      "+-------+----+-------+\n",
      "\n"
     ]
    }
   ],
   "source": [
    "df.dropna('any',subset=['salarie']).show()"
   ]
  },
  {
   "cell_type": "markdown",
   "id": "dd3b85a9",
   "metadata": {},
   "source": [
    "**Llenando valores faltantes**"
   ]
  },
  {
   "cell_type": "code",
   "execution_count": 98,
   "id": "27b6ff10",
   "metadata": {},
   "outputs": [
    {
     "name": "stdout",
     "output_type": "stream",
     "text": [
      "+-------+---+-------+\n",
      "|   name|age|salarie|\n",
      "+-------+---+-------+\n",
      "|  maria| 29| 112312|\n",
      "|  jorge| 35| 123423|\n",
      "|jessica| 32|  25343|\n",
      "|  erick| 20|  35464|\n",
      "|   NONE| 22|      0|\n",
      "| lucero|  0|  43211|\n",
      "|   NONE|  0|      0|\n",
      "+-------+---+-------+\n",
      "\n"
     ]
    }
   ],
   "source": [
    "df.fillna({'name':'NONE','age':0,'salarie':0}).show() # se especifica por columna"
   ]
  },
  {
   "cell_type": "code",
   "execution_count": 97,
   "id": "aa67268e",
   "metadata": {},
   "outputs": [
    {
     "name": "stdout",
     "output_type": "stream",
     "text": [
      "+-------+---+-------+\n",
      "|   name|age|salarie|\n",
      "+-------+---+-------+\n",
      "|  maria| 29| 112312|\n",
      "|  jorge| 35| 123423|\n",
      "|jessica| 32|  25343|\n",
      "|  erick| 20|  35464|\n",
      "|   null| 22|      0|\n",
      "| lucero|  0|  43211|\n",
      "|   null|  0|      0|\n",
      "+-------+---+-------+\n",
      "\n"
     ]
    }
   ],
   "source": [
    "df.fillna(0).show() # si se le pone solo un valor de reemplazo este se colocara de acuerdo al tipo de dato y tipo de columna"
   ]
  },
  {
   "cell_type": "code",
   "execution_count": 99,
   "id": "13e79093",
   "metadata": {},
   "outputs": [
    {
     "name": "stderr",
     "output_type": "stream",
     "text": [
      "C:\\Users\\tacas\\anaconda3\\lib\\site-packages\\scipy\\__init__.py:146: UserWarning: A NumPy version >=1.16.5 and <1.23.0 is required for this version of SciPy (detected version 1.23.1\n",
      "  warnings.warn(f\"A NumPy version >={np_minversion} and <{np_maxversion}\"\n"
     ]
    }
   ],
   "source": [
    "from pyspark.ml.feature import Imputer"
   ]
  },
  {
   "cell_type": "code",
   "execution_count": 100,
   "id": "1d9cd815",
   "metadata": {},
   "outputs": [],
   "source": [
    "imputer = Imputer(\n",
    "    inputCols = ['age', 'salarie'],\n",
    "    outputCols = [\"{}_imputed\".format(a) for a in ['age', 'salarie']]\n",
    ").setStrategy(\"mean\")"
   ]
  },
  {
   "cell_type": "code",
   "execution_count": 101,
   "id": "95d7cf19",
   "metadata": {},
   "outputs": [
    {
     "name": "stdout",
     "output_type": "stream",
     "text": [
      "+-------+----+-------+-----------+---------------+\n",
      "|   name| age|salarie|age_imputed|salarie_imputed|\n",
      "+-------+----+-------+-----------+---------------+\n",
      "|  maria|  29| 112312|         29|         112312|\n",
      "|  jorge|  35| 123423|         35|         123423|\n",
      "|jessica|  32|  25343|         32|          25343|\n",
      "|  erick|  20|  35464|         20|          35464|\n",
      "|   null|  22|   null|         22|          67950|\n",
      "| lucero|null|  43211|         27|          43211|\n",
      "|   null|null|   null|         27|          67950|\n",
      "+-------+----+-------+-----------+---------------+\n",
      "\n"
     ]
    }
   ],
   "source": [
    "imputer.fit(df).transform(df).show()"
   ]
  }
 ],
 "metadata": {
  "kernelspec": {
   "display_name": "Python 3 (ipykernel)",
   "language": "python",
   "name": "python3"
  },
  "language_info": {
   "codemirror_mode": {
    "name": "ipython",
    "version": 3
   },
   "file_extension": ".py",
   "mimetype": "text/x-python",
   "name": "python",
   "nbconvert_exporter": "python",
   "pygments_lexer": "ipython3",
   "version": "3.9.12"
  }
 },
 "nbformat": 4,
 "nbformat_minor": 5
}
