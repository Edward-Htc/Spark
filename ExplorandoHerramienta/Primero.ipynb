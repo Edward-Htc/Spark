{
 "cells": [
  {
   "cell_type": "code",
   "execution_count": 1,
   "id": "dcc8e5b5",
   "metadata": {},
   "outputs": [],
   "source": [
    "from pyspark import SparkContext"
   ]
  },
  {
   "cell_type": "code",
   "execution_count": 2,
   "id": "a45b1271",
   "metadata": {},
   "outputs": [],
   "source": [
    "sc = SparkContext()"
   ]
  },
  {
   "cell_type": "code",
   "execution_count": 21,
   "id": "c6d887a8",
   "metadata": {},
   "outputs": [
    {
     "name": "stdout",
     "output_type": "stream",
     "text": [
      "Writing ejemplo.txt\n"
     ]
    }
   ],
   "source": [
    "%%writefile ejemplo.txt\n",
    "primera linea\n",
    "segunda linea\n",
    "tercera linea\n",
    "cuarta liena"
   ]
  },
  {
   "cell_type": "code",
   "execution_count": 3,
   "id": "3767e10d",
   "metadata": {},
   "outputs": [],
   "source": [
    "## Lo cargamos a un RDD\n",
    "textFile = sc.textFile('ejemplo.txt')"
   ]
  },
  {
   "cell_type": "code",
   "execution_count": 34,
   "id": "04166bde",
   "metadata": {},
   "outputs": [
    {
     "data": {
      "text/plain": [
       "PythonRDD[10] at RDD at PythonRDD.scala:53"
      ]
     },
     "execution_count": 34,
     "metadata": {},
     "output_type": "execute_result"
    }
   ],
   "source": [
    "textFile.glom()"
   ]
  },
  {
   "cell_type": "markdown",
   "id": "204d3135",
   "metadata": {},
   "source": [
    "# Transformacion\n",
    "* filter\n",
    "* map\n",
    "* flatMap "
   ]
  },
  {
   "cell_type": "code",
   "execution_count": 2,
   "id": "56cd95ff",
   "metadata": {},
   "outputs": [],
   "source": [
    "from pyspark import SparkContext"
   ]
  },
  {
   "cell_type": "code",
   "execution_count": 28,
   "id": "b94bfb7b",
   "metadata": {},
   "outputs": [],
   "source": [
    "#sc = SparkContext()"
   ]
  },
  {
   "cell_type": "code",
   "execution_count": 29,
   "id": "4b228c7e",
   "metadata": {},
   "outputs": [],
   "source": [
    "p = sc.parallelize([1,2,3,4,5,8])"
   ]
  },
  {
   "cell_type": "code",
   "execution_count": 30,
   "id": "4331a388",
   "metadata": {},
   "outputs": [
    {
     "data": {
      "text/plain": [
       "[1, 2, 3, 4, 5, 8]"
      ]
     },
     "execution_count": 30,
     "metadata": {},
     "output_type": "execute_result"
    }
   ],
   "source": [
    "p.collect()"
   ]
  },
  {
   "cell_type": "markdown",
   "id": "b712b66e",
   "metadata": {},
   "source": [
    "### filter"
   ]
  },
  {
   "cell_type": "code",
   "execution_count": 31,
   "id": "9f54611d",
   "metadata": {},
   "outputs": [],
   "source": [
    "filtrado = p.filter(lambda x:x>1)"
   ]
  },
  {
   "cell_type": "code",
   "execution_count": 25,
   "id": "10eb3c79",
   "metadata": {},
   "outputs": [],
   "source": [
    "#filtrado.collect()"
   ]
  },
  {
   "cell_type": "markdown",
   "id": "9e912a26",
   "metadata": {},
   "source": [
    "### Map"
   ]
  },
  {
   "cell_type": "code",
   "execution_count": 39,
   "id": "176009cc",
   "metadata": {},
   "outputs": [],
   "source": [
    "def suma(x):\n",
    "    return x+1"
   ]
  },
  {
   "cell_type": "code",
   "execution_count": 40,
   "id": "695ba418",
   "metadata": {},
   "outputs": [],
   "source": [
    "filt = p.map(suma)"
   ]
  },
  {
   "cell_type": "code",
   "execution_count": 43,
   "id": "89e4c572",
   "metadata": {},
   "outputs": [
    {
     "data": {
      "text/plain": [
       "PythonRDD[11] at collect at C:\\Users\\tacas\\AppData\\Local\\Temp\\ipykernel_12340\\2479222970.py:1"
      ]
     },
     "execution_count": 43,
     "metadata": {},
     "output_type": "execute_result"
    }
   ],
   "source": [
    "filt"
   ]
  },
  {
   "cell_type": "code",
   "execution_count": 26,
   "id": "fe25aa17",
   "metadata": {},
   "outputs": [],
   "source": [
    "#filt.collect()"
   ]
  },
  {
   "cell_type": "markdown",
   "id": "e3ec2a72",
   "metadata": {},
   "source": [
    "### sample(whitRemplace,fraction,seed) --> muestra con reemplazo o no, fraccion de filas a generar, semilla para reducir el muestreo"
   ]
  },
  {
   "cell_type": "markdown",
   "id": "f4cbcc13",
   "metadata": {},
   "source": [
    "Nos ayuda a obtener un muestreo del RDD"
   ]
  },
  {
   "cell_type": "code",
   "execution_count": null,
   "id": "4f26b1e2",
   "metadata": {},
   "outputs": [],
   "source": [
    "prueba =  p.sample(False,0.5)"
   ]
  },
  {
   "cell_type": "markdown",
   "id": "9aa1d23f",
   "metadata": {},
   "source": [
    "## DISTINCT() --> devuelve un RDD quitando duplicados"
   ]
  },
  {
   "cell_type": "code",
   "execution_count": null,
   "id": "3103da05",
   "metadata": {},
   "outputs": [],
   "source": [
    "dist = p.distinct() # devolvera valores unicos"
   ]
  },
  {
   "cell_type": "code",
   "execution_count": null,
   "id": "aba1b592",
   "metadata": {},
   "outputs": [],
   "source": [
    "## GROUPBY() --> devuelve un RDD con datos agrupados con datos agrupados en formato de clave:valor"
   ]
  },
  {
   "cell_type": "code",
   "execution_count": null,
   "id": "9e3f695d",
   "metadata": {},
   "outputs": [],
   "source": [
    "grup = p.groupBy(lambda x:x>1) # retorna un objeto iterable"
   ]
  },
  {
   "cell_type": "markdown",
   "id": "dac62435",
   "metadata": {},
   "source": [
    "# Transformaciones sobre dos RDD"
   ]
  },
  {
   "cell_type": "markdown",
   "id": "0635e874",
   "metadata": {},
   "source": [
    "### rdda.union(rddb)"
   ]
  },
  {
   "cell_type": "code",
   "execution_count": null,
   "id": "d302ca85",
   "metadata": {},
   "outputs": [],
   "source": [
    "rdda = sc.parallelize([1,2,3])\n",
    "rddb = sc.parallelize([4,5,6])"
   ]
  },
  {
   "cell_type": "code",
   "execution_count": null,
   "id": "4e60d1ae",
   "metadata": {},
   "outputs": [],
   "source": [
    "rddu = rdda.union(rddb)\n",
    "rddu.collect()"
   ]
  },
  {
   "cell_type": "markdown",
   "id": "20e73a93",
   "metadata": {},
   "source": [
    "### rdda.intersection(rddb)"
   ]
  },
  {
   "cell_type": "code",
   "execution_count": null,
   "id": "680b83ee",
   "metadata": {},
   "outputs": [],
   "source": [
    "rdda = sc.parallelize([1,2,3,4])\n",
    "rddb = sc.parallelize([3,4,5,6])"
   ]
  },
  {
   "cell_type": "code",
   "execution_count": null,
   "id": "ac86ffe3",
   "metadata": {},
   "outputs": [],
   "source": [
    "rdd_i = rdda.intersection(rddb)\n",
    "rdd_i.collect()"
   ]
  },
  {
   "cell_type": "markdown",
   "id": "10924ad2",
   "metadata": {},
   "source": [
    "### rdda.subtract(rddb) --> diferencia...A-B...solo A"
   ]
  },
  {
   "cell_type": "code",
   "execution_count": null,
   "id": "6d869c2a",
   "metadata": {},
   "outputs": [],
   "source": [
    "rdd_s = rdda.subtract(rddb)\n",
    "rdd_s.collect()"
   ]
  },
  {
   "cell_type": "markdown",
   "id": "07020021",
   "metadata": {},
   "source": [
    "### rdda.cartesian(rddb) --> producto cartesiano ... AxB"
   ]
  },
  {
   "cell_type": "code",
   "execution_count": null,
   "id": "7d4c02ff",
   "metadata": {},
   "outputs": [],
   "source": [
    "rdd_c = rdda.cartesian(rddb)\n",
    "rdd_c.collect()"
   ]
  },
  {
   "cell_type": "markdown",
   "id": "4898fcd9",
   "metadata": {},
   "source": [
    "# Acciones"
   ]
  },
  {
   "cell_type": "code",
   "execution_count": null,
   "id": "64b91f5f",
   "metadata": {},
   "outputs": [],
   "source": [
    "from pyspark import SparkContext"
   ]
  },
  {
   "cell_type": "code",
   "execution_count": null,
   "id": "36129f38",
   "metadata": {},
   "outputs": [],
   "source": [
    "sc = SparkContext()"
   ]
  },
  {
   "cell_type": "code",
   "execution_count": null,
   "id": "79317cf9",
   "metadata": {},
   "outputs": [],
   "source": [
    "rdd = sc.parallelise(range(1,6))"
   ]
  },
  {
   "cell_type": "code",
   "execution_count": null,
   "id": "81973e21",
   "metadata": {},
   "outputs": [],
   "source": [
    "rdd.collect()"
   ]
  },
  {
   "cell_type": "markdown",
   "id": "98f7105f",
   "metadata": {},
   "source": [
    "### Alternativas a collect() .... mientras mas grande sea el RDD puede saturar la memoria\n",
    "* take\n",
    "* takeWithSample(withRep,n,[seed])\n",
    "* top(n)\n",
    "* takeOrdered(n,[orden])"
   ]
  },
  {
   "cell_type": "code",
   "execution_count": null,
   "id": "4324f0b4",
   "metadata": {},
   "outputs": [],
   "source": [
    "rdd.take(4) # devuelve los 4 primeros"
   ]
  },
  {
   "cell_type": "code",
   "execution_count": null,
   "id": "ea39a261",
   "metadata": {},
   "outputs": [],
   "source": [
    "rdd.takeSample(False,3) # similar a sample(), donde se le pasa si habra repeticiones y la cantidad de muestra"
   ]
  },
  {
   "cell_type": "code",
   "execution_count": null,
   "id": "5fdd42f1",
   "metadata": {},
   "outputs": [],
   "source": [
    "rdd.top(4) # devuelve los 4 primeros ordenadamente"
   ]
  },
  {
   "cell_type": "code",
   "execution_count": null,
   "id": "3e64e215",
   "metadata": {},
   "outputs": [],
   "source": [
    "rdd.takOrdered(4) # similar a top, solo que aca puede entrar un argumento mas y hacerlo descendentemente"
   ]
  },
  {
   "cell_type": "markdown",
   "id": "e73b0a58",
   "metadata": {},
   "source": [
    "### reduce(operacion) --> combina los elementos utilizando un operador"
   ]
  },
  {
   "cell_type": "markdown",
   "id": "461a061e",
   "metadata": {},
   "source": [
    "No funciona con RDD vacios"
   ]
  },
  {
   "cell_type": "code",
   "execution_count": null,
   "id": "8ef04b3b",
   "metadata": {},
   "outputs": [],
   "source": [
    "rdd.reduce(lambda x,y:x+y) # nos daria la suma, un valor escalar"
   ]
  },
  {
   "cell_type": "code",
   "execution_count": null,
   "id": "c54ce593",
   "metadata": {},
   "outputs": [],
   "source": [
    "rdd.reduce(lambda x,y:x-y)"
   ]
  },
  {
   "cell_type": "markdown",
   "id": "d263ebbf",
   "metadata": {},
   "source": [
    "## fold(valorCero,operacion) --> similar a reduce"
   ]
  },
  {
   "cell_type": "code",
   "execution_count": null,
   "id": "f03ffb4b",
   "metadata": {},
   "outputs": [],
   "source": [
    "from operator import add,sup,mul #suma,resta,multiplicacion"
   ]
  },
  {
   "cell_type": "code",
   "execution_count": null,
   "id": "a4afe3e0",
   "metadata": {},
   "outputs": [],
   "source": [
    "rdd.fold(0,add) ## el cero es como el acumulador, si usamos mult tenemos que poner 1"
   ]
  },
  {
   "cell_type": "markdown",
   "id": "6b7f89c9",
   "metadata": {},
   "source": [
    "### aggregate(valorCero,sepOp,combOp)\n",
    "* seqOp --> Este operador es usado para acumular los resultados de cada aprticion\n",
    "* combOp --> Este operador es usado para acumular los resultados de todas las particiones"
   ]
  },
  {
   "cell_type": "code",
   "execution_count": null,
   "id": "d2e82b8e",
   "metadata": {},
   "outputs": [],
   "source": [
    "rdd = sc.parallelise(range(1,6),3) # el segundo parametro es el numero de particiones"
   ]
  },
  {
   "cell_type": "code",
   "execution_count": null,
   "id": "ac05cddb",
   "metadata": {},
   "outputs": [],
   "source": [
    "rdd.aggregate(0,lambda x,y:add(x,y),lambda x,y:sub(x,y)) # resultaria -15"
   ]
  },
  {
   "cell_type": "code",
   "execution_count": 35,
   "id": "1208feb5",
   "metadata": {},
   "outputs": [],
   "source": [
    "# [1],[2,3],[4,5]"
   ]
  },
  {
   "cell_type": "code",
   "execution_count": 36,
   "id": "d1c79b84",
   "metadata": {},
   "outputs": [],
   "source": [
    "# [1],[5],[9] ....segundo parametro"
   ]
  },
  {
   "cell_type": "code",
   "execution_count": 37,
   "id": "dcbdda78",
   "metadata": {},
   "outputs": [],
   "source": [
    "# -1-5-9 = -15 ......tercer paramtero"
   ]
  },
  {
   "cell_type": "markdown",
   "id": "4a70964e",
   "metadata": {},
   "source": [
    "### Accion para contar elemento"
   ]
  },
  {
   "cell_type": "code",
   "execution_count": 38,
   "id": "f6338300",
   "metadata": {},
   "outputs": [],
   "source": [
    "# count() --> devuelve la cantidad de elementos del RDD"
   ]
  },
  {
   "cell_type": "code",
   "execution_count": 39,
   "id": "faf16e63",
   "metadata": {},
   "outputs": [],
   "source": [
    "#countAprox(timeout,confidence=0.95) --> version aproximada de count()\n",
    "        # timeout -> tiempo en milisegundos\n",
    "        # confidence -> probabilidad de obtener valor real\n",
    "# countAproxDistinct(relativeSD=0.05) ---> devuelve un estimado de valores unicos"
   ]
  },
  {
   "cell_type": "code",
   "execution_count": 40,
   "id": "da642e47",
   "metadata": {},
   "outputs": [],
   "source": [
    "# countbyValue() --> devuelve el numero de veces que aparece cada elemento como un mapa"
   ]
  }
 ],
 "metadata": {
  "kernelspec": {
   "display_name": "Python 3.9.12 ('base')",
   "language": "python",
   "name": "python3"
  },
  "language_info": {
   "codemirror_mode": {
    "name": "ipython",
    "version": 3
   },
   "file_extension": ".py",
   "mimetype": "text/x-python",
   "name": "python",
   "nbconvert_exporter": "python",
   "pygments_lexer": "ipython3",
   "version": "3.9.12"
  },
  "vscode": {
   "interpreter": {
    "hash": "246fa01eff4e91edb68645455a2581cc801c22cee0d605dba14be86cbc3319f0"
   }
  }
 },
 "nbformat": 4,
 "nbformat_minor": 5
}
