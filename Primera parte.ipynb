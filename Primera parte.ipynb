{
 "cells": [
  {
   "cell_type": "markdown",
   "id": "07f35f86",
   "metadata": {},
   "source": [
    "**In this video we will cover**\n",
    "* PySpark dataframe\n",
    "* Reading dataframe\n",
    "* Checking the datatype of the columns(shcema)\n",
    "* Slecting columns and indexing\n",
    "* Check describe option similar to pandas\n",
    "* adding columns\n",
    "* dropping columns"
   ]
  },
  {
   "cell_type": "code",
   "execution_count": 1,
   "id": "3e46181f",
   "metadata": {},
   "outputs": [],
   "source": [
    "import pyspark\n",
    "import pandas as pd"
   ]
  },
  {
   "cell_type": "code",
   "execution_count": 2,
   "id": "dc8fba62",
   "metadata": {},
   "outputs": [],
   "source": [
    "from pyspark.sql import SparkSession"
   ]
  },
  {
   "cell_type": "code",
   "execution_count": 3,
   "id": "a996d7d5",
   "metadata": {},
   "outputs": [],
   "source": [
    "spark = SparkSession.builder.appName('PC1').getOrCreate()"
   ]
  },
  {
   "cell_type": "code",
   "execution_count": 4,
   "id": "c674804c",
   "metadata": {},
   "outputs": [
    {
     "data": {
      "text/html": [
       "\n",
       "            <div>\n",
       "                <p><b>SparkSession - in-memory</b></p>\n",
       "                \n",
       "        <div>\n",
       "            <p><b>SparkContext</b></p>\n",
       "\n",
       "            <p><a href=\"http://DESKTOP-ABI7TL1:4040\">Spark UI</a></p>\n",
       "\n",
       "            <dl>\n",
       "              <dt>Version</dt>\n",
       "                <dd><code>v3.3.0</code></dd>\n",
       "              <dt>Master</dt>\n",
       "                <dd><code>local[*]</code></dd>\n",
       "              <dt>AppName</dt>\n",
       "                <dd><code>PC1</code></dd>\n",
       "            </dl>\n",
       "        </div>\n",
       "        \n",
       "            </div>\n",
       "        "
      ],
      "text/plain": [
       "<pyspark.sql.session.SparkSession at 0x29ee4852520>"
      ]
     },
     "execution_count": 4,
     "metadata": {},
     "output_type": "execute_result"
    }
   ],
   "source": [
    "spark"
   ]
  },
  {
   "cell_type": "code",
   "execution_count": 5,
   "id": "5fa65d2c",
   "metadata": {},
   "outputs": [],
   "source": [
    "# Leer un csv... metodo1\n",
    "pyspark_df = spark.read.csv('data.csv',sep=';',header=True)"
   ]
  },
  {
   "cell_type": "code",
   "execution_count": 11,
   "id": "2e056586",
   "metadata": {},
   "outputs": [
    {
     "name": "stdout",
     "output_type": "stream",
     "text": [
      "+-------+---+\n",
      "|   name|age|\n",
      "+-------+---+\n",
      "|  maria| 29|\n",
      "|  jorge| 35|\n",
      "|jessica| 32|\n",
      "|  erick| 20|\n",
      "+-------+---+\n",
      "\n"
     ]
    }
   ],
   "source": [
    "pyspark_df.show()"
   ]
  },
  {
   "cell_type": "code",
   "execution_count": 6,
   "id": "b005ddda",
   "metadata": {},
   "outputs": [],
   "source": [
    "#Leer un csv... metodo2\n",
    "spark_df2 = spark.read.option('header','true').option('sep',';').csv('data.csv')"
   ]
  },
  {
   "cell_type": "code",
   "execution_count": 7,
   "id": "ccdd2c17",
   "metadata": {},
   "outputs": [
    {
     "name": "stdout",
     "output_type": "stream",
     "text": [
      "+-------+---+\n",
      "|   name|age|\n",
      "+-------+---+\n",
      "|  maria| 29|\n",
      "|  jorge| 35|\n",
      "|jessica| 32|\n",
      "|  erick| 20|\n",
      "+-------+---+\n",
      "\n"
     ]
    }
   ],
   "source": [
    "spark_df2.show()"
   ]
  },
  {
   "cell_type": "code",
   "execution_count": 8,
   "id": "9b7477fe",
   "metadata": {},
   "outputs": [
    {
     "name": "stdout",
     "output_type": "stream",
     "text": [
      "root\n",
      " |-- name: string (nullable = true)\n",
      " |-- age: string (nullable = true)\n",
      "\n"
     ]
    }
   ],
   "source": [
    "# check schema.... visualizar columnas y su tipo\n",
    "spark_df2.printSchema()"
   ]
  },
  {
   "cell_type": "markdown",
   "id": "a92cf7d9",
   "metadata": {},
   "source": [
    "**Podemos ver que spark nos da como resultado string a la columna que es integer, veamos como solucionarlo**"
   ]
  },
  {
   "cell_type": "code",
   "execution_count": 15,
   "id": "16e141cd",
   "metadata": {},
   "outputs": [],
   "source": [
    "# Diferentes formas de extraer la informacion de un csv"
   ]
  },
  {
   "cell_type": "code",
   "execution_count": 9,
   "id": "58c76d7b",
   "metadata": {},
   "outputs": [],
   "source": [
    "spark_df3 = spark.read.csv('data.csv',sep=';',header=True,inferSchema=True)"
   ]
  },
  {
   "cell_type": "code",
   "execution_count": 11,
   "id": "ab953dcb",
   "metadata": {},
   "outputs": [],
   "source": [
    "spark_df4 = spark.read.option('header',True).option('sep',';').option('inferSchema',True).csv('data.csv')"
   ]
  },
  {
   "cell_type": "code",
   "execution_count": 13,
   "id": "00154cfa",
   "metadata": {},
   "outputs": [],
   "source": [
    "spark_df5 = spark.read.options(header=True,sep=';',inferSchema=True).csv('data.csv')"
   ]
  },
  {
   "cell_type": "code",
   "execution_count": null,
   "id": "1e154e62",
   "metadata": {},
   "outputs": [],
   "source": [
    "# Mostramos el schema ahora de nuestro dataframe"
   ]
  },
  {
   "cell_type": "code",
   "execution_count": 10,
   "id": "40c06a27",
   "metadata": {},
   "outputs": [
    {
     "name": "stdout",
     "output_type": "stream",
     "text": [
      "root\n",
      " |-- name: string (nullable = true)\n",
      " |-- age: integer (nullable = true)\n",
      "\n"
     ]
    }
   ],
   "source": [
    "spark_df3.printSchema()"
   ]
  },
  {
   "cell_type": "code",
   "execution_count": 12,
   "id": "2daf47eb",
   "metadata": {},
   "outputs": [
    {
     "name": "stdout",
     "output_type": "stream",
     "text": [
      "root\n",
      " |-- name: string (nullable = true)\n",
      " |-- age: integer (nullable = true)\n",
      "\n"
     ]
    }
   ],
   "source": [
    "spark_df4.printSchema()"
   ]
  },
  {
   "cell_type": "code",
   "execution_count": 14,
   "id": "abbeb3dc",
   "metadata": {},
   "outputs": [
    {
     "name": "stdout",
     "output_type": "stream",
     "text": [
      "root\n",
      " |-- name: string (nullable = true)\n",
      " |-- age: integer (nullable = true)\n",
      "\n"
     ]
    }
   ],
   "source": [
    "spark_df5.printSchema()"
   ]
  },
  {
   "cell_type": "markdown",
   "id": "b4f25775",
   "metadata": {},
   "source": [
    "**Seleccionamos columnas**"
   ]
  },
  {
   "cell_type": "code",
   "execution_count": 19,
   "id": "f1efb4d3",
   "metadata": {},
   "outputs": [
    {
     "data": {
      "text/plain": [
       "['name', 'age']"
      ]
     },
     "execution_count": 19,
     "metadata": {},
     "output_type": "execute_result"
    }
   ],
   "source": [
    "spark_df5.columns"
   ]
  },
  {
   "cell_type": "code",
   "execution_count": 21,
   "id": "33c4efda",
   "metadata": {},
   "outputs": [
    {
     "data": {
      "text/plain": [
       "[Row(name='maria', age=29), Row(name='jorge', age=35)]"
      ]
     },
     "execution_count": 21,
     "metadata": {},
     "output_type": "execute_result"
    }
   ],
   "source": [
    "spark_df3.head(2)"
   ]
  },
  {
   "cell_type": "code",
   "execution_count": 26,
   "id": "ef410353",
   "metadata": {},
   "outputs": [
    {
     "name": "stdout",
     "output_type": "stream",
     "text": [
      "+-------+\n",
      "|   name|\n",
      "+-------+\n",
      "|  maria|\n",
      "|  jorge|\n",
      "|jessica|\n",
      "|  erick|\n",
      "+-------+\n",
      "\n"
     ]
    }
   ],
   "source": [
    "spark_df2.select('name').show()"
   ]
  },
  {
   "cell_type": "code",
   "execution_count": 32,
   "id": "ac90c5f9",
   "metadata": {},
   "outputs": [
    {
     "name": "stdout",
     "output_type": "stream",
     "text": [
      "+-------+---+\n",
      "|   name|age|\n",
      "+-------+---+\n",
      "|  maria| 29|\n",
      "|  jorge| 35|\n",
      "|jessica| 32|\n",
      "|  erick| 20|\n",
      "+-------+---+\n",
      "\n"
     ]
    }
   ],
   "source": [
    "spark_df2.select(['name','age']).show()"
   ]
  },
  {
   "cell_type": "code",
   "execution_count": 35,
   "id": "484b747f",
   "metadata": {},
   "outputs": [
    {
     "data": {
      "text/plain": [
       "Column<'name'>"
      ]
     },
     "execution_count": 35,
     "metadata": {},
     "output_type": "execute_result"
    }
   ],
   "source": [
    "spark_df2['name'] # no retorna la informacion, solo que si hay una columna 'name'"
   ]
  },
  {
   "cell_type": "code",
   "execution_count": 36,
   "id": "9553f703",
   "metadata": {},
   "outputs": [
    {
     "data": {
      "text/plain": [
       "[('name', 'string'), ('age', 'string')]"
      ]
     },
     "execution_count": 36,
     "metadata": {},
     "output_type": "execute_result"
    }
   ],
   "source": [
    "spark_df2.dtypes"
   ]
  },
  {
   "cell_type": "markdown",
   "id": "755a22f9",
   "metadata": {},
   "source": [
    "**Describe**"
   ]
  },
  {
   "cell_type": "code",
   "execution_count": 40,
   "id": "68b3706f",
   "metadata": {},
   "outputs": [
    {
     "name": "stdout",
     "output_type": "stream",
     "text": [
      "+-------+-----+----------------+\n",
      "|summary| name|             age|\n",
      "+-------+-----+----------------+\n",
      "|  count|    4|               4|\n",
      "|   mean| null|            29.0|\n",
      "| stddev| null|6.48074069840786|\n",
      "|    min|erick|              20|\n",
      "|    max|maria|              35|\n",
      "+-------+-----+----------------+\n",
      "\n"
     ]
    }
   ],
   "source": [
    "spark_df2.describe().show()"
   ]
  },
  {
   "cell_type": "markdown",
   "id": "03798df0",
   "metadata": {},
   "source": [
    "**Eliminar y añadir columnas**"
   ]
  },
  {
   "cell_type": "code",
   "execution_count": 52,
   "id": "8d4ac985",
   "metadata": {},
   "outputs": [],
   "source": [
    "#Agregando"
   ]
  },
  {
   "cell_type": "code",
   "execution_count": 53,
   "id": "2510b6e0",
   "metadata": {},
   "outputs": [],
   "source": [
    "spark_df2 = spark_df2.withColumn('age_more_2',spark_df2['age']+2)"
   ]
  },
  {
   "cell_type": "code",
   "execution_count": 54,
   "id": "c1d823f2",
   "metadata": {},
   "outputs": [
    {
     "data": {
      "text/plain": [
       "DataFrame[summary: string, name: string, age: string, age_more_2: string]"
      ]
     },
     "execution_count": 54,
     "metadata": {},
     "output_type": "execute_result"
    }
   ],
   "source": [
    "spark_df2.describe()"
   ]
  },
  {
   "cell_type": "code",
   "execution_count": 51,
   "id": "ab56afcb",
   "metadata": {},
   "outputs": [],
   "source": [
    "#Eliminando"
   ]
  },
  {
   "cell_type": "code",
   "execution_count": 57,
   "id": "cb75fbf3",
   "metadata": {},
   "outputs": [],
   "source": [
    "spark_df2 = spark_df2.drop('age_more_2')"
   ]
  },
  {
   "cell_type": "code",
   "execution_count": 58,
   "id": "bb7d317f",
   "metadata": {},
   "outputs": [
    {
     "data": {
      "text/plain": [
       "DataFrame[name: string, age: string]"
      ]
     },
     "execution_count": 58,
     "metadata": {},
     "output_type": "execute_result"
    }
   ],
   "source": [
    "spark_df2"
   ]
  },
  {
   "cell_type": "code",
   "execution_count": 59,
   "id": "11865f21",
   "metadata": {},
   "outputs": [],
   "source": [
    "# Rename column"
   ]
  },
  {
   "cell_type": "code",
   "execution_count": 62,
   "id": "5cdfab1f",
   "metadata": {},
   "outputs": [],
   "source": [
    "spark_df2 = spark_df2.withColumnRenamed('name','Name')"
   ]
  },
  {
   "cell_type": "code",
   "execution_count": 64,
   "id": "3ed09649",
   "metadata": {},
   "outputs": [
    {
     "name": "stdout",
     "output_type": "stream",
     "text": [
      "root\n",
      " |-- Name: string (nullable = true)\n",
      " |-- age: string (nullable = true)\n",
      "\n"
     ]
    }
   ],
   "source": [
    "spark_df2.printSchema()"
   ]
  }
 ],
 "metadata": {
  "kernelspec": {
   "display_name": "Python 3 (ipykernel)",
   "language": "python",
   "name": "python3"
  },
  "language_info": {
   "codemirror_mode": {
    "name": "ipython",
    "version": 3
   },
   "file_extension": ".py",
   "mimetype": "text/x-python",
   "name": "python",
   "nbconvert_exporter": "python",
   "pygments_lexer": "ipython3",
   "version": "3.9.12"
  }
 },
 "nbformat": 4,
 "nbformat_minor": 5
}
