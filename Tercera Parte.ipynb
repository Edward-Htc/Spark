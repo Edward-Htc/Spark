{
 "cells": [
  {
   "cell_type": "markdown",
   "id": "226abf15",
   "metadata": {},
   "source": [
    "* Filter operation\n",
    "* &,|,==\n",
    "* ~"
   ]
  },
  {
   "cell_type": "code",
   "execution_count": 2,
   "id": "41f8c136",
   "metadata": {},
   "outputs": [],
   "source": [
    "import pandas as pd\n",
    "import pyspark"
   ]
  },
  {
   "cell_type": "code",
   "execution_count": 3,
   "id": "b71acbab",
   "metadata": {},
   "outputs": [],
   "source": [
    "from pyspark.sql import SparkSession"
   ]
  },
  {
   "cell_type": "code",
   "execution_count": 4,
   "id": "b9981760",
   "metadata": {},
   "outputs": [],
   "source": [
    "spark = SparkSession.builder.appName('tree').getOrCreate()"
   ]
  },
  {
   "cell_type": "code",
   "execution_count": 5,
   "id": "686526bd",
   "metadata": {},
   "outputs": [],
   "source": [
    "df = spark.read.csv('data.csv',sep=';',header=True,inferSchema=True)"
   ]
  },
  {
   "cell_type": "code",
   "execution_count": 6,
   "id": "7e008dec",
   "metadata": {},
   "outputs": [
    {
     "name": "stdout",
     "output_type": "stream",
     "text": [
      "+-------+----+-------+\n",
      "|   name| age|salarie|\n",
      "+-------+----+-------+\n",
      "|  maria|  29| 112312|\n",
      "|  jorge|  35| 123423|\n",
      "|jessica|  32|  25343|\n",
      "|  erick|  20|  35464|\n",
      "|   null|  22|   null|\n",
      "| lucero|null|  43211|\n",
      "|   null|null|   null|\n",
      "+-------+----+-------+\n",
      "\n"
     ]
    }
   ],
   "source": [
    "df.show()"
   ]
  },
  {
   "cell_type": "markdown",
   "id": "96339dc0",
   "metadata": {},
   "source": [
    "**Filter operation**"
   ]
  },
  {
   "cell_type": "code",
   "execution_count": 8,
   "id": "939a48f8",
   "metadata": {},
   "outputs": [
    {
     "name": "stdout",
     "output_type": "stream",
     "text": [
      "+-----+---+-------+\n",
      "| name|age|salarie|\n",
      "+-----+---+-------+\n",
      "|maria| 29| 112312|\n",
      "|jorge| 35| 123423|\n",
      "+-----+---+-------+\n",
      "\n"
     ]
    }
   ],
   "source": [
    "df.filter(\"salarie>110000\").show()"
   ]
  },
  {
   "cell_type": "code",
   "execution_count": 10,
   "id": "394ae489",
   "metadata": {},
   "outputs": [
    {
     "name": "stdout",
     "output_type": "stream",
     "text": [
      "+-------+---+\n",
      "|   name|age|\n",
      "+-------+---+\n",
      "|  maria| 29|\n",
      "|  jorge| 35|\n",
      "|jessica| 32|\n",
      "+-------+---+\n",
      "\n"
     ]
    }
   ],
   "source": [
    "df.filter(\"age>25\").select([\"name\",\"age\"]).show()"
   ]
  },
  {
   "cell_type": "code",
   "execution_count": 14,
   "id": "220b520b",
   "metadata": {},
   "outputs": [
    {
     "name": "stdout",
     "output_type": "stream",
     "text": [
      "+-----+---+\n",
      "| name|age|\n",
      "+-----+---+\n",
      "|maria| 29|\n",
      "+-----+---+\n",
      "\n"
     ]
    }
   ],
   "source": [
    "df.filter((df['age']>25) & (df['age']<30)).select([\"name\",\"age\"]).show()"
   ]
  },
  {
   "cell_type": "code",
   "execution_count": 17,
   "id": "476056d3",
   "metadata": {},
   "outputs": [
    {
     "name": "stdout",
     "output_type": "stream",
     "text": [
      "+-----+---+-------+\n",
      "| name|age|salarie|\n",
      "+-----+---+-------+\n",
      "|maria| 29| 112312|\n",
      "|erick| 20|  35464|\n",
      "| null| 22|   null|\n",
      "+-----+---+-------+\n",
      "\n"
     ]
    }
   ],
   "source": [
    "df.filter(~(df['age']>30)).show()"
   ]
  }
 ],
 "metadata": {
  "kernelspec": {
   "display_name": "Python 3 (ipykernel)",
   "language": "python",
   "name": "python3"
  },
  "language_info": {
   "codemirror_mode": {
    "name": "ipython",
    "version": 3
   },
   "file_extension": ".py",
   "mimetype": "text/x-python",
   "name": "python",
   "nbconvert_exporter": "python",
   "pygments_lexer": "ipython3",
   "version": "3.9.12"
  }
 },
 "nbformat": 4,
 "nbformat_minor": 5
}
