{
 "cells": [
  {
   "cell_type": "markdown",
   "id": "066e8cc2",
   "metadata": {},
   "source": [
    "## Funciones de agregacion y group by"
   ]
  },
  {
   "cell_type": "code",
   "execution_count": 1,
   "id": "d9a733b1",
   "metadata": {},
   "outputs": [],
   "source": [
    "import pyspark\n",
    "import pandas as pd"
   ]
  },
  {
   "cell_type": "code",
   "execution_count": 2,
   "id": "2ca3078d",
   "metadata": {},
   "outputs": [],
   "source": [
    "from pyspark.sql import SparkSession"
   ]
  },
  {
   "cell_type": "code",
   "execution_count": 3,
   "id": "aef48e1d",
   "metadata": {},
   "outputs": [],
   "source": [
    "spark = SparkSession.builder.appName('cuarta').getOrCreate()"
   ]
  },
  {
   "cell_type": "code",
   "execution_count": 20,
   "id": "66f0ed0c",
   "metadata": {},
   "outputs": [],
   "source": [
    "df = spark.read.csv('data2.csv',sep=';',header=True,inferSchema=True)"
   ]
  },
  {
   "cell_type": "code",
   "execution_count": 21,
   "id": "028b8bc8",
   "metadata": {},
   "outputs": [
    {
     "data": {
      "text/plain": [
       "[Row(Name='Edward', Departament='Data Science', Salary=10000),\n",
       " Row(Name='Jose', Departament='IOT', Salary=5000),\n",
       " Row(Name='Krish', Departament='Big Data', Salary=4000),\n",
       " Row(Name='Mahesh', Departament='Big Data', Salary=4000)]"
      ]
     },
     "execution_count": 21,
     "metadata": {},
     "output_type": "execute_result"
    }
   ],
   "source": [
    "df.head(4)"
   ]
  },
  {
   "cell_type": "code",
   "execution_count": 23,
   "id": "f328be67",
   "metadata": {},
   "outputs": [
    {
     "name": "stdout",
     "output_type": "stream",
     "text": [
      "root\n",
      " |-- Name: string (nullable = true)\n",
      " |-- Departament: string (nullable = true)\n",
      " |-- Salary: integer (nullable = true)\n",
      "\n"
     ]
    }
   ],
   "source": [
    "df.printSchema()"
   ]
  },
  {
   "cell_type": "code",
   "execution_count": 22,
   "id": "c386d92e",
   "metadata": {},
   "outputs": [
    {
     "name": "stdout",
     "output_type": "stream",
     "text": [
      "+-------+------------+------+\n",
      "|   Name| Departament|Salary|\n",
      "+-------+------------+------+\n",
      "| Edward|Data Science| 10000|\n",
      "|   Jose|         IOT|  5000|\n",
      "|  Krish|    Big Data|  4000|\n",
      "| Mahesh|    Big Data|  4000|\n",
      "|Sudhash|Data Science|  3000|\n",
      "|Sudhash|         IOT| 20000|\n",
      "|Sudhash|    Big Data|  5000|\n",
      "|  Sunny|Data Science| 10000|\n",
      "| Edward|         IOT|  2000|\n",
      "| Edward|    Big Data|  4000|\n",
      "|  Sunny|    Big Data|  1000|\n",
      "+-------+------------+------+\n",
      "\n"
     ]
    }
   ],
   "source": [
    "df.show()"
   ]
  },
  {
   "cell_type": "code",
   "execution_count": 24,
   "id": "f5d5c07d",
   "metadata": {},
   "outputs": [],
   "source": [
    "# GROUPBY"
   ]
  },
  {
   "cell_type": "code",
   "execution_count": 32,
   "id": "472840d2",
   "metadata": {},
   "outputs": [
    {
     "name": "stdout",
     "output_type": "stream",
     "text": [
      "+-------+-----------+\n",
      "|   Name|sum(Salary)|\n",
      "+-------+-----------+\n",
      "| Edward|      16000|\n",
      "|  Sunny|      11000|\n",
      "|  Krish|       4000|\n",
      "|   Jose|       5000|\n",
      "|Sudhash|      28000|\n",
      "| Mahesh|       4000|\n",
      "+-------+-----------+\n",
      "\n"
     ]
    }
   ],
   "source": [
    "df.groupBy('Name').sum().show()"
   ]
  },
  {
   "cell_type": "code",
   "execution_count": 34,
   "id": "89d808a7",
   "metadata": {},
   "outputs": [
    {
     "name": "stdout",
     "output_type": "stream",
     "text": [
      "+------------+-----------+\n",
      "| Departament|sum(Salary)|\n",
      "+------------+-----------+\n",
      "|         IOT|      27000|\n",
      "|    Big Data|      18000|\n",
      "|Data Science|      23000|\n",
      "+------------+-----------+\n",
      "\n"
     ]
    }
   ],
   "source": [
    "df.groupBy('Departament').sum().show()"
   ]
  },
  {
   "cell_type": "code",
   "execution_count": 36,
   "id": "61d25b71",
   "metadata": {},
   "outputs": [
    {
     "name": "stdout",
     "output_type": "stream",
     "text": [
      "+-------+------------+-----------+\n",
      "|   Name| Departament|sum(Salary)|\n",
      "+-------+------------+-----------+\n",
      "|  Sunny|    Big Data|       1000|\n",
      "| Mahesh|    Big Data|       4000|\n",
      "|  Sunny|Data Science|      10000|\n",
      "|Sudhash|    Big Data|       5000|\n",
      "|   Jose|         IOT|       5000|\n",
      "| Edward|         IOT|       2000|\n",
      "|Sudhash|Data Science|       3000|\n",
      "| Edward|Data Science|      10000|\n",
      "|Sudhash|         IOT|      20000|\n",
      "|  Krish|    Big Data|       4000|\n",
      "| Edward|    Big Data|       4000|\n",
      "+-------+------------+-----------+\n",
      "\n"
     ]
    }
   ],
   "source": [
    "df.groupBy(['Name','Departament']).sum().show()"
   ]
  },
  {
   "cell_type": "code",
   "execution_count": 37,
   "id": "e7c28a69",
   "metadata": {},
   "outputs": [
    {
     "name": "stdout",
     "output_type": "stream",
     "text": [
      "+------------+-----+\n",
      "| Departament|count|\n",
      "+------------+-----+\n",
      "|         IOT|    3|\n",
      "|    Big Data|    5|\n",
      "|Data Science|    3|\n",
      "+------------+-----+\n",
      "\n"
     ]
    }
   ],
   "source": [
    "df.groupBy('Departament').count().show()"
   ]
  },
  {
   "cell_type": "code",
   "execution_count": 44,
   "id": "e8fc6fd6",
   "metadata": {},
   "outputs": [
    {
     "name": "stdout",
     "output_type": "stream",
     "text": [
      "+-------------+\n",
      "|count(Salary)|\n",
      "+-------------+\n",
      "|           11|\n",
      "+-------------+\n",
      "\n"
     ]
    }
   ],
   "source": [
    "df.agg({'Salary':'count'}).show()"
   ]
  },
  {
   "cell_type": "code",
   "execution_count": null,
   "id": "b991d562",
   "metadata": {},
   "outputs": [],
   "source": []
  },
  {
   "cell_type": "code",
   "execution_count": null,
   "id": "e501cc75",
   "metadata": {},
   "outputs": [],
   "source": []
  }
 ],
 "metadata": {
  "kernelspec": {
   "display_name": "Python 3 (ipykernel)",
   "language": "python",
   "name": "python3"
  },
  "language_info": {
   "codemirror_mode": {
    "name": "ipython",
    "version": 3
   },
   "file_extension": ".py",
   "mimetype": "text/x-python",
   "name": "python",
   "nbconvert_exporter": "python",
   "pygments_lexer": "ipython3",
   "version": "3.9.12"
  }
 },
 "nbformat": 4,
 "nbformat_minor": 5
}
